{
  "nbformat": 4,
  "nbformat_minor": 0,
  "metadata": {
    "colab": {
      "name": "Bayesian",
      "provenance": [],
      "toc_visible": true,
      "authorship_tag": "ABX9TyMmmTPhzmJSoi8Kw5bPy4L5",
      "include_colab_link": true
    },
    "kernelspec": {
      "name": "python3",
      "display_name": "Python 3"
    },
    "language_info": {
      "name": "python"
    }
  },
  "cells": [
    {
      "cell_type": "markdown",
      "metadata": {
        "id": "view-in-github",
        "colab_type": "text"
      },
      "source": [
        "<a href=\"https://colab.research.google.com/github/dragoon-lzt/Bayesian-Theory-and-Computation/blob/main/HW/HW1/HW1.ipynb\" target=\"_parent\"><img src=\"https://colab.research.google.com/assets/colab-badge.svg\" alt=\"Open In Colab\"/></a>"
      ]
    },
    {
      "cell_type": "code",
      "metadata": {
        "id": "osYydApYD76U"
      },
      "source": [
        "import numpy as np"
      ],
      "execution_count": null,
      "outputs": []
    },
    {
      "cell_type": "markdown",
      "metadata": {
        "id": "tcH3UioEAuNb"
      },
      "source": [
        "## Problem 2.\n",
        "### (5)\n",
        "simulation: "
      ]
    },
    {
      "cell_type": "code",
      "metadata": {
        "colab": {
          "base_uri": "https://localhost:8080/"
        },
        "id": "izS-OGEzA9nR",
        "outputId": "5af1f00d-915c-4734-9c79-3559a453d666"
      },
      "source": [
        "# one-step transition function\n",
        "def transfunc(i):\n",
        "  if i==0:\n",
        "    a = np.random.rand()\n",
        "    if a < 0.5:\n",
        "      return 0\n",
        "    else:\n",
        "      return 1\n",
        "  else:\n",
        "    a = np.random.rand()\n",
        "    if a>0.5:\n",
        "      return i-1\n",
        "    elif a<1/(2*(i+1)):\n",
        "      return i+1\n",
        "    else:\n",
        "      return i\n",
        "\n",
        "np.random.seed(1024)\n",
        "\n",
        "X0=1\n",
        "\n",
        "X = np.zeros(10000)\n",
        "X[0] = transfunc(X0)\n",
        "for t in range(1,10000):\n",
        "  X[t] = transfunc(X[t-1])\n",
        "mu = np.mean(X)\n",
        "sigma = np.var(X) \n",
        "\n",
        "print(\"mean     = \", mu)\n",
        "print(\"variance = \", sigma)"
      ],
      "execution_count": null,
      "outputs": [
        {
          "output_type": "stream",
          "text": [
            "mean     =  0.9698\n",
            "variance =  0.92548796\n"
          ],
          "name": "stdout"
        }
      ]
    },
    {
      "cell_type": "markdown",
      "metadata": {
        "id": "uKf7F3htaQBt"
      },
      "source": [
        "## Problem 3.\n"
      ]
    }
  ]
}